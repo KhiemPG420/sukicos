{
 "cells": [
  {
   "cell_type": "code",
   "execution_count": null,
   "id": "43b7068d",
   "metadata": {},
   "outputs": [],
   "source": [
    "import pandas as pd\n",
    "import numpy as np"
   ]
  }
 ],
 "metadata": {
  "language_info": {
   "name": "python"
  }
 },
 "nbformat": 4,
 "nbformat_minor": 5
}
