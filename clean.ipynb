{
 "cells": [
  {
   "cell_type": "code",
   "execution_count": 28,
   "id": "43b7068d",
   "metadata": {},
   "outputs": [],
   "source": [
    "import os\n",
    "\n",
    "import pandas as pd\n",
    "import numpy as np"
   ]
  },
  {
   "cell_type": "code",
   "execution_count": 30,
   "id": "1369832e",
   "metadata": {},
   "outputs": [
    {
     "data": {
      "text/plain": [
       "''"
      ]
     },
     "execution_count": 30,
     "metadata": {},
     "output_type": "execute_result"
    }
   ],
   "source": [
    "''''''\n",
    "# read file\n",
    "file_path = 'C:\\\\Users\\\\admin\\\\OneDrive\\\\Tài liệu\\\\Suki_Datasets.xlsx'\n",
    "data = pd.read_excel(file_path)\n",
    "df = pd.DataFrame(data)\n",
    "\n",
    "# thông tin dataset\n",
    "df\n",
    "''''''"
   ]
  },
  {
   "cell_type": "code",
   "execution_count": null,
   "id": "3e2a191a",
   "metadata": {},
   "outputs": [
    {
     "name": "stdout",
     "output_type": "stream",
     "text": [
      "                  ID      Loại đơn hàng                 Ngày           Giờ  \\\n",
      "count   4.569800e+04              45698                45698  45698.000000   \n",
      "unique           NaN                  4                   92           NaN   \n",
      "top              NaN  Giao hàng tận nhà  2024-01-05 00:00:00           NaN   \n",
      "freq             NaN              38662                 2363           NaN   \n",
      "mean    4.049982e+08                NaN                  NaN     14.858462   \n",
      "std     2.879487e+06                NaN                  NaN      5.927029   \n",
      "min     4.000000e+08                NaN                  NaN      0.000000   \n",
      "25%     4.025049e+08                NaN                  NaN     11.000000   \n",
      "50%     4.049815e+08                NaN                  NaN     16.000000   \n",
      "75%     4.074860e+08                NaN                  NaN     20.000000   \n",
      "max     4.099999e+08                NaN                  NaN     24.000000   \n",
      "\n",
      "       Người tạo đơn   Nguồn Kho tạo đơn     Kho    Kho cụ thể  \\\n",
      "count          45698   45697       45698   45698         45698   \n",
      "unique             3       6           3       1             5   \n",
      "top          NV_TMĐT  Shopee      Online  Hà Nội  Quận Ba Đình   \n",
      "freq           38535   22321       42180   45698         21076   \n",
      "mean             NaN     NaN         NaN     NaN           NaN   \n",
      "std              NaN     NaN         NaN     NaN           NaN   \n",
      "min              NaN     NaN         NaN     NaN           NaN   \n",
      "25%              NaN     NaN         NaN     NaN           NaN   \n",
      "50%              NaN     NaN         NaN     NaN           NaN   \n",
      "75%              NaN     NaN         NaN     NaN           NaN   \n",
      "max              NaN     NaN         NaN     NaN           NaN   \n",
      "\n",
      "        Tên khách hàng  ...      Số lượng Giá trị đơn hàng Phí vận chuyển  \\\n",
      "count            45698  ...  45698.000000     4.569800e+04   45659.000000   \n",
      "unique            8857  ...           NaN              NaN            NaN   \n",
      "top     Đặng Quang Mai  ...           NaN              NaN            NaN   \n",
      "freq                25  ...           NaN              NaN            NaN   \n",
      "mean               NaN  ...      1.998840     8.988752e+05   14750.016426   \n",
      "std                NaN  ...      2.116892     9.653966e+05    9793.803324   \n",
      "min                NaN  ...      1.000000     1.590000e+05       0.000000   \n",
      "25%                NaN  ...      1.000000     4.700000e+05       0.000000   \n",
      "50%                NaN  ...      1.000000     5.200000e+05   17000.000000   \n",
      "75%                NaN  ...      2.000000     9.980000e+05   20000.000000   \n",
      "max                NaN  ...     15.000000     7.800000e+06   30000.000000   \n",
      "\n",
      "       Phí ship báo khách Hãng vận chuyển       Giá vốn  Trạng thái  \\\n",
      "count        45659.000000           45698  4.569800e+04       45696   \n",
      "unique                NaN               3           NaN           3   \n",
      "top                   NaN   Giaohangnhanh           NaN  Thành công   \n",
      "freq                  NaN           34818           NaN       41696   \n",
      "mean         18413.018244             NaN  5.393251e+05         NaN   \n",
      "std          11873.725371             NaN  5.792380e+05         NaN   \n",
      "min              0.000000             NaN  9.540000e+04         NaN   \n",
      "25%              0.000000             NaN  2.820000e+05         NaN   \n",
      "50%          22000.000000             NaN  3.120000e+05         NaN   \n",
      "75%          25000.000000             NaN  5.988000e+05         NaN   \n",
      "max          35000.000000             NaN  4.680000e+06         NaN   \n",
      "\n",
      "         Lý do hủy    Promotion  Nhóm khách hàng  \n",
      "count         2332        16001             1173  \n",
      "unique           7            6                1  \n",
      "top     Lý do khác  FAMILYREFER              VIP  \n",
      "freq          1687         4565             1173  \n",
      "mean           NaN          NaN              NaN  \n",
      "std            NaN          NaN              NaN  \n",
      "min            NaN          NaN              NaN  \n",
      "25%            NaN          NaN              NaN  \n",
      "50%            NaN          NaN              NaN  \n",
      "75%            NaN          NaN              NaN  \n",
      "max            NaN          NaN              NaN  \n",
      "\n",
      "[11 rows x 27 columns]\n",
      "Số lượng giá trị null trong mỗi cột:\n",
      "ID                        0\n",
      "Loại đơn hàng             0\n",
      "Ngày                      0\n",
      "Giờ                       0\n",
      "Người tạo đơn             0\n",
      "Nguồn                     1\n",
      "Kho tạo đơn               0\n",
      "Kho                       0\n",
      "Kho cụ thể                0\n",
      "Tên khách hàng            0\n",
      "ID_KH                     0\n",
      "Sinh nhật                 0\n",
      "Thành phố              1205\n",
      "Quận huyện             3235\n",
      "Sản phẩm                  0\n",
      "Danh mục sản phẩm         0\n",
      "Giá                       0\n",
      "Số lượng                  0\n",
      "Giá trị đơn hàng          0\n",
      "Phí vận chuyển           39\n",
      "Phí ship báo khách       39\n",
      "Hãng vận chuyển           0\n",
      "Giá vốn                   0\n",
      "Trạng thái                2\n",
      "Lý do hủy             43366\n",
      "Promotion             29697\n",
      "Nhóm khách hàng       44525\n",
      "dtype: int64\n"
     ]
    }
   ],
   "source": [
    "# Thống kê mô tả\n",
    "print(df.describe(include='all'))"
   ]
  },
  {
   "cell_type": "code",
   "execution_count": 21,
   "id": "7961d5f6",
   "metadata": {},
   "outputs": [
    {
     "name": "stdout",
     "output_type": "stream",
     "text": [
      "Số lượng giá trị null trong mỗi cột:\n",
      "ID                        0\n",
      "Loại đơn hàng             0\n",
      "Ngày                      0\n",
      "Giờ                       0\n",
      "Người tạo đơn             0\n",
      "Nguồn                     1\n",
      "Kho tạo đơn               0\n",
      "Kho                       0\n",
      "Kho cụ thể                0\n",
      "Tên khách hàng            0\n",
      "ID_KH                     0\n",
      "Sinh nhật                 0\n",
      "Thành phố              1205\n",
      "Quận huyện             3235\n",
      "Sản phẩm                  0\n",
      "Danh mục sản phẩm         0\n",
      "Giá                       0\n",
      "Số lượng                  0\n",
      "Giá trị đơn hàng          0\n",
      "Phí vận chuyển           39\n",
      "Phí ship báo khách       39\n",
      "Hãng vận chuyển           0\n",
      "Giá vốn                   0\n",
      "Trạng thái                2\n",
      "Lý do hủy             43366\n",
      "Promotion             29697\n",
      "Nhóm khách hàng           0\n",
      "dtype: int64\n"
     ]
    }
   ],
   "source": [
    "# kiểm tra các giá trị null\n",
    "print(\"Số lượng giá trị null trong mỗi cột:\")\n",
    "print(df.isnull().sum())"
   ]
  },
  {
   "cell_type": "code",
   "execution_count": 13,
   "id": "47686f71",
   "metadata": {},
   "outputs": [
    {
     "name": "stdout",
     "output_type": "stream",
     "text": [
      "Số lượng giá trị duy nhất trong mỗi cột:\n",
      "ID                    45595\n",
      "Loại đơn hàng             4\n",
      "Ngày                     92\n",
      "Giờ                      25\n",
      "Người tạo đơn             3\n",
      "Nguồn                     6\n",
      "Kho tạo đơn               3\n",
      "Kho                       1\n",
      "Kho cụ thể                5\n",
      "Tên khách hàng         8857\n",
      "ID_KH                 13789\n",
      "Sinh nhật              4022\n",
      "Thành phố                62\n",
      "Quận huyện              287\n",
      "Sản phẩm                  9\n",
      "Danh mục sản phẩm         4\n",
      "Giá                       7\n",
      "Số lượng                 15\n",
      "Giá trị đơn hàng        194\n",
      "Phí vận chuyển            9\n",
      "Phí ship báo khách        9\n",
      "Hãng vận chuyển           3\n",
      "Giá vốn                 194\n",
      "Trạng thái                3\n",
      "Lý do hủy                 7\n",
      "Promotion                 6\n",
      "Nhóm khách hàng           1\n",
      "dtype: int64\n"
     ]
    }
   ],
   "source": [
    "# Kiểm tra các giá trị duy nhất trong mỗi cột\n",
    "print(\"Số lượng giá trị duy nhất trong mỗi cột:\")\n",
    "print(df.nunique())"
   ]
  },
  {
   "cell_type": "code",
   "execution_count": null,
   "id": "8984f242",
   "metadata": {},
   "outputs": [
    {
     "name": "stdout",
     "output_type": "stream",
     "text": [
      "Kiểm tra lại cột 'Ngày sinh' sau khi chuyển đổi:\n",
      "0   1994-07-16\n",
      "1   1996-02-13\n",
      "2   1993-07-20\n",
      "3   1991-03-16\n",
      "4   1998-04-07\n",
      "Name: Sinh nhật, dtype: datetime64[ns]\n",
      "Sau khi điền giá trị trống:\n",
      "ID                        0\n",
      "Loại đơn hàng             0\n",
      "Ngày                      0\n",
      "Giờ                       0\n",
      "Người tạo đơn             0\n",
      "Nguồn                     1\n",
      "Kho tạo đơn               0\n",
      "Kho                       0\n",
      "Kho cụ thể                0\n",
      "Tên khách hàng            0\n",
      "ID_KH                     0\n",
      "Sinh nhật                 0\n",
      "Thành phố              1205\n",
      "Quận huyện             3235\n",
      "Sản phẩm                  0\n",
      "Danh mục sản phẩm         0\n",
      "Giá                       0\n",
      "Số lượng                  0\n",
      "Giá trị đơn hàng          0\n",
      "Phí vận chuyển           39\n",
      "Phí ship báo khách       39\n",
      "Hãng vận chuyển           0\n",
      "Giá vốn                   0\n",
      "Trạng thái                2\n",
      "Lý do hủy             43366\n",
      "Promotion             29697\n",
      "Nhóm khách hàng           0\n",
      "dtype: int64\n"
     ]
    },
    {
     "name": "stderr",
     "output_type": "stream",
     "text": [
      "C:\\Users\\admin\\AppData\\Local\\Temp\\ipykernel_7752\\683259856.py:9: FutureWarning: A value is trying to be set on a copy of a DataFrame or Series through chained assignment using an inplace method.\n",
      "The behavior will change in pandas 3.0. This inplace method will never work because the intermediate object on which we are setting values always behaves as a copy.\n",
      "\n",
      "For example, when doing 'df[col].method(value, inplace=True)', try using 'df.method({col: value}, inplace=True)' or df[col] = df[col].method(value) instead, to perform the operation inplace on the original object.\n",
      "\n",
      "\n",
      "  df['Nhóm khách hàng'].fillna('Chưa xác định', inplace=True)\n"
     ]
    }
   ],
   "source": [
    "# Tiền xử lý dữ liệu\n",
    "# Chuyển đổi cột 'Ngày sinh' sang định dạng datetime\n",
    "df['Sinh nhật'] = pd.to_datetime(df['Sinh nhật'], errors='coerce')\n",
    "# Kiểm tra lại sau khi chuyển đổi\n",
    "print(\"Kiểm tra lại cột 'Ngày sinh' sau khi chuyển đổi:\")\n",
    "print(df['Sinh nhật'].head())\n",
    "\n",
    "# Fill giá trị trống\n",
    "df['Nhóm khách hàng'].fillna('Chưa xác định', inplace=True)\n",
    "print(\"Sau khi điền giá trị trống:\")\n",
    "print(df.isnull().sum())"
   ]
  },
  {
   "cell_type": "code",
   "execution_count": null,
   "id": "407fcc4b",
   "metadata": {},
   "outputs": [
    {
     "name": "stdout",
     "output_type": "stream",
     "text": [
      "Dataset sau khi tiền xử lý:\n",
      "          ID      Loại đơn hàng                 Ngày  Giờ Người tạo đơn  \\\n",
      "0  406786288  Giao hàng tận nhà  2024-01-03 00:00:00   10       NV_TMĐT   \n",
      "1  403987349  Giao hàng tận nhà  2024-01-03 00:00:00   20       NV_TMĐT   \n",
      "2  408264118  Giao hàng tận nhà  2024-01-03 00:00:00   20       API_Web   \n",
      "3  404873944  Giao hàng tận nhà  2024-01-03 00:00:00    9       NV_TMĐT   \n",
      "4  402100775  Giao hàng tận nhà  2024-01-03 00:00:00   10       API_Web   \n",
      "\n",
      "     Nguồn Kho tạo đơn     Kho         Kho cụ thể   Tên khách hàng  ...  \\\n",
      "0   Shopee      Online  Hà Nội  Quận Hai Bà Trưng     Võ Phúc Thảo  ...   \n",
      "1   TikTok      Online  Hà Nội      Quận Cầu Giấy    Phạm Hồng Yến  ...   \n",
      "2  Website         Web  Hà Nội       Quận Ba Đình   Mai Quang Kiệt  ...   \n",
      "3   Shopee      Online  Hà Nội       Quận Ba Đình    Đặng Bảo Tuấn  ...   \n",
      "4  Website         Web  Hà Nội     Quận Long Biên  Nguyễn Hải Hưng  ...   \n",
      "\n",
      "   Số lượng Giá trị đơn hàng Phí vận chuyển Phí ship báo khách  \\\n",
      "0         4          1596000            0.0                0.0   \n",
      "1         2           798000            0.0                0.0   \n",
      "2         1           399000        18000.0            23000.0   \n",
      "3         1           399000        20000.0            25000.0   \n",
      "4        15          5985000        18000.0            23000.0   \n",
      "\n",
      "  Hãng vận chuyển  Giá vốn  Trạng thái  Lý do hủy   Promotion  Nhóm khách hàng  \n",
      "0   Giaohangnhanh   957600  Thành công        NaN  REFER5GET5              VIP  \n",
      "1   Giaohangnhanh   478800  Thành công        NaN  REFER5GET5              VIP  \n",
      "2   Giaohangnhanh   239400  Thành công        NaN  REFER5GET5              VIP  \n",
      "3   Giaohangnhanh   239400  Thành công        NaN  REFER5GET5              VIP  \n",
      "4   Giaohangnhanh  3591000  Thành công        NaN  REFER5GET5              VIP  \n",
      "\n",
      "[5 rows x 27 columns]\n",
      "Dataset đã được lưu tại: C:\\Users\\admin\\OneDrive\\Tài liệu\\Suki_Datasets_processed.xlsx\n"
     ]
    }
   ],
   "source": [
    "\n",
    "# Kiểm tra lại dataset\n",
    "print(\"Dataset sau khi tiền xử lý:\")\n",
    "print(df.head())\n",
    "# Lưu lại dataset đã tiền xử lý\n",
    "output_file_path = 'C:\\\\Users\\\\admin\\\\OneDrive\\\\Tài liệu\\\\Suki_Datasets_processed.xlsx'\n",
    "df.to_excel(output_file_path, index=False)\n",
    "# In thông tin đã lưu\n",
    "print(f\"Dataset đã được lưu tại: {output_file_path}\")"
   ]
  },
  {
   "cell_type": "code",
   "execution_count": 31,
   "id": "29375d72",
   "metadata": {},
   "outputs": [
    {
     "data": {
      "text/plain": [
       "0"
      ]
     },
     "execution_count": 31,
     "metadata": {},
     "output_type": "execute_result"
    }
   ],
   "source": [
    "# Đường dẫn tới file đã lưu\n",
    "os.system(f'git add \"{output_file_path}\"')\n",
    "os.system('git commit -m \"Add processed dataset\"')\n",
    "os.system('git push')"
   ]
  }
 ],
 "metadata": {
  "kernelspec": {
   "display_name": "Python 3",
   "language": "python",
   "name": "python3"
  },
  "language_info": {
   "codemirror_mode": {
    "name": "ipython",
    "version": 3
   },
   "file_extension": ".py",
   "mimetype": "text/x-python",
   "name": "python",
   "nbconvert_exporter": "python",
   "pygments_lexer": "ipython3",
   "version": "3.13.2"
  }
 },
 "nbformat": 4,
 "nbformat_minor": 5
}
